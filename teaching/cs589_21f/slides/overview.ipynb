{
 "cells": [
  {
   "cell_type": "markdown",
   "id": "a1d8030a",
   "metadata": {},
   "source": [
    "# Lecture 1 tutorial"
   ]
  },
  {
   "cell_type": "markdown",
   "id": "3adc3a90",
   "metadata": {},
   "source": [
    "In lecture 1 slide 26, we computed the cosine similarity of the TF vector and the TF-IDF vector for the following query and documents:\n",
    "\n",
    "q = \"the artificial intelligence book\"\n",
    "\n",
    "d1 = \"the cat, the dog, the book\"\n",
    "\n",
    "d2 = \"business intelligence\"\n",
    "\n",
    "d3 = \"the artificial world\"\n",
    "\n",
    "First, use gensim to process the dataset:"
   ]
  },
  {
   "cell_type": "code",
   "execution_count": 4,
   "id": "5f9a56a5",
   "metadata": {},
   "outputs": [
    {
     "name": "stdout",
     "output_type": "stream",
     "text": [
      "[['the', 'cat', 'the', 'dog', 'the', 'book'], ['business', 'intelligence'], ['the', 'artificial', 'world']]\n"
     ]
    }
   ],
   "source": [
    "from gensim.corpora import Dictionary\n",
    "\n",
    "docs = [\"the cat, the dog, the book\", \"business intelligence\", \"the artificial world\"]\n",
    "processed_list = [each_doc.replace(\",\", \"\").split() for each_doc in docs]\n",
    "print(processed_list)\n",
    "\n",
    "query = \"the artificial intelligence book\".split()\n",
    "\n",
    "word_dictionary = Dictionary(processed_list)\n",
    "doc_wd_list = [word_dictionary.doc2bow(document) for document in processed_list]\n",
    "query_wd_list = word_dictionary.doc2bow(query)"
   ]
  },
  {
   "cell_type": "markdown",
   "id": "a31fdf63",
   "metadata": {},
   "source": [
    "Let's first compute the tf scores of the three documents:"
   ]
  },
  {
   "cell_type": "code",
   "execution_count": 10,
   "id": "34d05516",
   "metadata": {},
   "outputs": [
    {
     "name": "stdout",
     "output_type": "stream",
     "text": [
      "score(q,d0)=0.5773502691896258\n",
      "score(q,d1)=0.35355339059327373\n",
      "score(q,d2)=0.5773502691896258\n"
     ]
    }
   ],
   "source": [
    "def compute_tf_cos(doc_wd_list, query_wd_list):\n",
    "    import math\n",
    "    doc_tf_dict = dict(doc_wd_list)\n",
    "    query_tf_dict = dict(query_wd_list)\n",
    "    dotprod = sum([doc_tf_dict[key] * query_tf_dict[key] for key in set(doc_tf_dict.keys()).intersection(query_tf_dict.keys())])\n",
    "    docl2 = sum([doc_tf_dict[key] **2 for key in set(doc_tf_dict.keys())])\n",
    "    ql2 = sum([query_tf_dict[key] **2 for key in set(query_tf_dict.keys())])\n",
    "    return dotprod / math.sqrt(docl2 * ql2)\n",
    "    \n",
    "for idx in range(3):\n",
    "    print(\"score(q,d{})={}\".format(idx,compute_tf_cos(doc_wd_list[idx], query_wd_list)))"
   ]
  },
  {
   "cell_type": "markdown",
   "id": "0297cf9b",
   "metadata": {},
   "source": [
    "Next, let's add the IDF value in the vector:"
   ]
  },
  {
   "cell_type": "code",
   "execution_count": 20,
   "id": "9bce6d4a",
   "metadata": {},
   "outputs": [
    {
     "name": "stdout",
     "output_type": "stream",
     "text": [
      "{3: 2, 1: 1, 2: 1, 0: 1, 4: 1, 5: 1, 6: 1, 7: 1}\n",
      "score(q,d0)=0.38693355291373777\n",
      "score(q,d1)=0.3992843032295922\n",
      "score(q,d2)=0.43896982677323276\n"
     ]
    }
   ],
   "source": [
    "def idf(N, df_val):\n",
    "    import math\n",
    "    return math.log(N / df_val, 2.0)\n",
    "\n",
    "def compute_tfidf_cos(doc_wd_list, query_wd_list, df_list, N):\n",
    "    import math\n",
    "    doc_wd_list = [(docid, count * idf(N, df_list[docid])) for (docid, count) in doc_wd_list]\n",
    "    query_wd_list = [(docid, count * idf(N, df_list[docid])) for (docid, count) in query_wd_list]\n",
    "    doc_tf_dict = dict(doc_wd_list)\n",
    "    query_tf_dict = dict(query_wd_list)\n",
    "    dotprod = sum([doc_tf_dict[key] * query_tf_dict[key] for key in set(doc_tf_dict.keys()).intersection(query_tf_dict.keys())])\n",
    "    docl2 = sum([doc_tf_dict[key] **2 for key in set(doc_tf_dict.keys())])\n",
    "    ql2 = sum([query_tf_dict[key] **2 for key in set(query_tf_dict.keys())])\n",
    "    return dotprod / math.sqrt(docl2 * ql2)\n",
    "\n",
    "df_list = word_dictionary.dfs\n",
    "print(df_list)\n",
    "\n",
    "for idx in range(3):\n",
    "    print(\"score(q,d{})={}\".format(idx,compute_tfidf_cos(doc_wd_list[idx], query_wd_list, df_list, 3)))"
   ]
  },
  {
   "cell_type": "markdown",
   "id": "1c349100",
   "metadata": {},
   "source": [
    "So we can see that, before adding IDF, score(q, d0) > score(q, d1), but this mistake is corrected after adding IDF. "
   ]
  }
 ],
 "metadata": {
  "kernelspec": {
   "display_name": "Python 3 (ipykernel)",
   "language": "python",
   "name": "python3"
  },
  "language_info": {
   "codemirror_mode": {
    "name": "ipython",
    "version": 3
   },
   "file_extension": ".py",
   "mimetype": "text/x-python",
   "name": "python",
   "nbconvert_exporter": "python",
   "pygments_lexer": "ipython3",
   "version": "3.8.0"
  }
 },
 "nbformat": 4,
 "nbformat_minor": 5
}
